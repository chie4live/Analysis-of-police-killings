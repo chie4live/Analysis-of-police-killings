{
 "cells": [
  {
   "cell_type": "markdown",
   "metadata": {},
   "source": [
    "# Police killing of civilians in the US in from January 2015 to June 2015"
   ]
  },
  {
   "cell_type": "markdown",
   "metadata": {},
   "source": [
    "This analysis is part of the dataquest guided project to analyse real data. The first dataset on police killings used in this project are provided by the <a href=\"http://fivethirtyeight.com/\">FiveThirtyEight</a> team and can be found <a href=\"https://github.com/fivethirtyeight/data/tree/master/police-killings\">here</a>. The second dataset which is state level data can be found <a href=\"https://www.census.gov/popest/data/state/asrh/2015/SCPRC-EST2015-18+POP-RES.html\"> here </a>."
   ]
  },
  {
   "cell_type": "code",
   "execution_count": 1,
   "metadata": {
    "collapsed": true
   },
   "outputs": [],
   "source": [
    "import pandas as pd\n",
    "import numpy as np\n",
    "import matplotlib.pyplot as plt\n",
    "%matplotlib inline\n",
    "import seaborn as sns"
   ]
  },
  {
   "cell_type": "code",
   "execution_count": 2,
   "metadata": {
    "collapsed": false
   },
   "outputs": [
    {
     "name": "stdout",
     "output_type": "stream",
     "text": [
      "Index(['name', 'age', 'gender', 'raceethnicity', 'month', 'day', 'year',\n",
      "       'streetaddress', 'city', 'state', 'latitude', 'longitude', 'state_fp',\n",
      "       'county_fp', 'tract_ce', 'geo_id', 'county_id', 'namelsad',\n",
      "       'lawenforcementagency', 'cause', 'armed', 'pop', 'share_white',\n",
      "       'share_black', 'share_hispanic', 'p_income', 'h_income',\n",
      "       'county_income', 'comp_income', 'county_bucket', 'nat_bucket', 'pov',\n",
      "       'urate', 'college'],\n",
      "      dtype='object')\n",
      "                 name age gender    raceethnicity     month  day  year  \\\n",
      "0  A'donte Washington  16   Male            Black  February   23  2015   \n",
      "1      Aaron Rutledge  27   Male            White     April    2  2015   \n",
      "2         Aaron Siler  26   Male            White     March   14  2015   \n",
      "3        Aaron Valdez  25   Male  Hispanic/Latino     March   11  2015   \n",
      "4        Adam Jovicic  29   Male            White     March   19  2015   \n",
      "\n",
      "            streetaddress          city state    ...     share_hispanic  \\\n",
      "0            Clearview Ln     Millbrook    AL    ...                5.6   \n",
      "1  300 block Iris Park Dr     Pineville    LA    ...                0.5   \n",
      "2    22nd Ave and 56th St       Kenosha    WI    ...               16.8   \n",
      "3       3000 Seminole Ave    South Gate    CA    ...               98.8   \n",
      "4          364 Hiwood Ave  Munroe Falls    OH    ...                1.7   \n",
      "\n",
      "   p_income  h_income  county_income  comp_income  county_bucket  nat_bucket  \\\n",
      "0     28375   51367.0          54766     0.937936            3.0         3.0   \n",
      "1     14678   27972.0          40930     0.683411            2.0         1.0   \n",
      "2     25286   45365.0          54930     0.825869            2.0         3.0   \n",
      "3     17194   48295.0          55909     0.863814            3.0         3.0   \n",
      "4     33954   68785.0          49669     1.384868            5.0         4.0   \n",
      "\n",
      "    pov     urate   college  \n",
      "0  14.1  0.097686  0.168510  \n",
      "1  28.8  0.065724  0.111402  \n",
      "2  14.6  0.166293  0.147312  \n",
      "3  11.7  0.124827  0.050133  \n",
      "4   1.9  0.063550  0.403954  \n",
      "\n",
      "[5 rows x 34 columns]\n"
     ]
    }
   ],
   "source": [
    "police_killings = pd.read_csv(\"police_killings.csv\", encoding='ISO-8859-1')\n",
    "print(police_killings.columns)\n",
    "print(police_killings.ix[0:4])"
   ]
  },
  {
   "cell_type": "markdown",
   "metadata": {},
   "source": [
    "## Shootings By Race"
   ]
  },
  {
   "cell_type": "code",
   "execution_count": 3,
   "metadata": {
    "collapsed": false
   },
   "outputs": [
    {
     "name": "stdout",
     "output_type": "stream",
     "text": [
      "[236 135  67  15  10   4]\n"
     ]
    },
    {
     "data": {
      "text/plain": [
       "['White',\n",
       " 'Black',\n",
       " 'Hispanic/Latino',\n",
       " 'Unknown',\n",
       " 'Asian/Pacific Islander',\n",
       " 'Native American']"
      ]
     },
     "execution_count": 3,
     "metadata": {},
     "output_type": "execute_result"
    }
   ],
   "source": [
    "blacks_killed = police_killings[\"raceethnicity\"].value_counts()\n",
    "print(blacks_killed.values)\n",
    "list(blacks_killed.index)"
   ]
  },
  {
   "cell_type": "code",
   "execution_count": 4,
   "metadata": {
    "collapsed": false
   },
   "outputs": [
    {
     "data": {
      "image/png": "[encoded data removed]",
      "text/plain": [
       "<matplotlib.figure.Figure at 0x7f6ac5246198>"
      ]
     },
     "metadata": {},
     "output_type": "display_data"
    }
   ],
   "source": [
    "fig = plt.figure(figsize=(11,5))\n",
    "ax1 = fig.add_subplot(1,1,1)\n",
    "sns.barplot(y=police_killings[\"raceethnicity\"].value_counts(), x=list(blacks_killed.index), ax=ax1)\n",
    "ax1.set(ylabel=\"Number of Killings\", xlabel=\"Race/Etnicity\")\n",
    "plt.show()"
   ]
  },
  {
   "cell_type": "markdown",
   "metadata": {},
   "source": [
    "### Killing Pattern\n",
    "The fact that whites americans killed in the time frame almost doubles the amount of blacks killed is revealing. The proportion of Hispanics/Latinos in the American population is about 3 points more than blacks, however, black killings by police is more than double for blacks. "
   ]
  },
  {
   "cell_type": "code",
   "execution_count": 5,
   "metadata": {
    "collapsed": false
   },
   "outputs": [
    {
     "data": {
      "image/png": "[encoded data removed]",
      "text/plain": [
       "<matplotlib.figure.Figure at 0x7f6ac2e933c8>"
      ]
     },
     "metadata": {},
     "output_type": "display_data"
    }
   ],
   "source": [
    "cols = [\"White\", \"Black\", \"Hispanic/Latino\", \"Native Hawaiian/Pacific Islander\", \n",
    "        \"Asian\", \"Native American\"]\n",
    "vals = [61.6, 13.3, 17.6, 5.6, 0.2, 1.2]\n",
    "fig1 = plt.figure(figsize=(11,5))\n",
    "ax2 = fig1.add_subplot(1,1,1)\n",
    "sns.barplot(y=vals, x=cols)\n",
    "ax2.set(ylabel=\"USA Population\", xlabel=\"Race/Etnicity\")\n",
    "plt.xticks(rotation=90)\n",
    "plt.show()"
   ]
  },
  {
   "cell_type": "markdown",
   "metadata": {},
   "source": [
    "## Shootings By Regional Income"
   ]
  },
  {
   "cell_type": "code",
   "execution_count": 6,
   "metadata": {
    "collapsed": false
   },
   "outputs": [
    {
     "data": {
      "text/plain": [
       "<matplotlib.axes._subplots.AxesSubplot at 0x7f6ac298dcf8>"
      ]
     },
     "execution_count": 6,
     "metadata": {},
     "output_type": "execute_result"
    },
    {
     "data": {
      "image/png": "[encoded data removed]",
      "text/plain": [
       "<matplotlib.figure.Figure at 0x7f6ac52460f0>"
      ]
     },
     "metadata": {},
     "output_type": "display_data"
    }
   ],
   "source": [
    "income =  police_killings['p_income'][police_killings['p_income'] != '-'].astype(int)\n",
    "income.hist(figsize=(10,5), bins=20)"
   ]
  },
  {
   "cell_type": "markdown",
   "metadata": {},
   "source": [
    "The 'p_income' column(personal income) of the dataset created by the FiveThirtyEight team contains the median tract-level personal income per census tract. This varies from the median US personal income. \n",
    "\n",
    "The histogram tells us that majority of police killings(about 75%) occur in neighbourhoods with lower median personal income(<< $30,000)"
   ]
  },
  {
   "cell_type": "code",
   "execution_count": 7,
   "metadata": {
    "collapsed": false
   },
   "outputs": [
    {
     "data": {
      "text/html": [
       "<div>\n",
       "<table border=\"1\" class=\"dataframe\">\n",
       "  <thead>\n",
       "    <tr style=\"text-align: right;\">\n",
       "      <th></th>\n",
       "      <th>SUMLEV</th>\n",
       "      <th>REGION</th>\n",
       "      <th>DIVISION</th>\n",
       "      <th>STATE</th>\n",
       "      <th>NAME</th>\n",
       "      <th>POPESTIMATE2015</th>\n",
       "      <th>POPEST18PLUS2015</th>\n",
       "      <th>PCNT_POPEST18PLUS</th>\n",
       "    </tr>\n",
       "  </thead>\n",
       "  <tbody>\n",
       "    <tr>\n",
       "      <th>0</th>\n",
       "      <td>10</td>\n",
       "      <td>0</td>\n",
       "      <td>0</td>\n",
       "      <td>0</td>\n",
       "      <td>United States</td>\n",
       "      <td>321418820</td>\n",
       "      <td>247773709</td>\n",
       "      <td>77.1</td>\n",
       "    </tr>\n",
       "    <tr>\n",
       "      <th>1</th>\n",
       "      <td>40</td>\n",
       "      <td>3</td>\n",
       "      <td>6</td>\n",
       "      <td>1</td>\n",
       "      <td>Alabama</td>\n",
       "      <td>4858979</td>\n",
       "      <td>3755483</td>\n",
       "      <td>77.3</td>\n",
       "    </tr>\n",
       "    <tr>\n",
       "      <th>2</th>\n",
       "      <td>40</td>\n",
       "      <td>4</td>\n",
       "      <td>9</td>\n",
       "      <td>2</td>\n",
       "      <td>Alaska</td>\n",
       "      <td>738432</td>\n",
       "      <td>552166</td>\n",
       "      <td>74.8</td>\n",
       "    </tr>\n",
       "    <tr>\n",
       "      <th>3</th>\n",
       "      <td>40</td>\n",
       "      <td>4</td>\n",
       "      <td>8</td>\n",
       "      <td>4</td>\n",
       "      <td>Arizona</td>\n",
       "      <td>6828065</td>\n",
       "      <td>5205215</td>\n",
       "      <td>76.2</td>\n",
       "    </tr>\n",
       "    <tr>\n",
       "      <th>4</th>\n",
       "      <td>40</td>\n",
       "      <td>3</td>\n",
       "      <td>7</td>\n",
       "      <td>5</td>\n",
       "      <td>Arkansas</td>\n",
       "      <td>2978204</td>\n",
       "      <td>2272904</td>\n",
       "      <td>76.3</td>\n",
       "    </tr>\n",
       "  </tbody>\n",
       "</table>\n",
       "</div>"
      ],
      "text/plain": [
       "   SUMLEV REGION DIVISION  STATE           NAME  POPESTIMATE2015  \\\n",
       "0      10      0        0      0  United States        321418820   \n",
       "1      40      3        6      1        Alabama          4858979   \n",
       "2      40      4        9      2         Alaska           738432   \n",
       "3      40      4        8      4        Arizona          6828065   \n",
       "4      40      3        7      5       Arkansas          2978204   \n",
       "\n",
       "   POPEST18PLUS2015  PCNT_POPEST18PLUS  \n",
       "0         247773709               77.1  \n",
       "1           3755483               77.3  \n",
       "2            552166               74.8  \n",
       "3           5205215               76.2  \n",
       "4           2272904               76.3  "
      ]
     },
     "execution_count": 7,
     "metadata": {},
     "output_type": "execute_result"
    }
   ],
   "source": [
    "state_pop = pd.read_csv(\"state_population.csv\")\n",
    "state_pop.head()"
   ]
  },
  {
   "cell_type": "markdown",
   "metadata": {},
   "source": [
    "##  Shootings By State"
   ]
  },
  {
   "cell_type": "code",
   "execution_count": 8,
   "metadata": {
    "collapsed": false
   },
   "outputs": [],
   "source": [
    "# Pandas Series where the index is the code for each state, and the values \n",
    "# are the numbers of police killings in each state.\n",
    "counts = police_killings[\"state_fp\"].value_counts()\n",
    "#columns=[\"STATE\", \"Shootings\"]\n",
    "\n",
    "states = pd.DataFrame({\"STATE\": counts.index, \"Shootings\":counts.values})"
   ]
  },
  {
   "cell_type": "code",
   "execution_count": 9,
   "metadata": {
    "collapsed": false
   },
   "outputs": [
    {
     "data": {
      "text/html": [
       "<div>\n",
       "<table border=\"1\" class=\"dataframe\">\n",
       "  <thead>\n",
       "    <tr style=\"text-align: right;\">\n",
       "      <th></th>\n",
       "      <th>STATE</th>\n",
       "      <th>Shootings</th>\n",
       "    </tr>\n",
       "  </thead>\n",
       "  <tbody>\n",
       "    <tr>\n",
       "      <th>0</th>\n",
       "      <td>6</td>\n",
       "      <td>74</td>\n",
       "    </tr>\n",
       "    <tr>\n",
       "      <th>1</th>\n",
       "      <td>48</td>\n",
       "      <td>47</td>\n",
       "    </tr>\n",
       "    <tr>\n",
       "      <th>2</th>\n",
       "      <td>12</td>\n",
       "      <td>29</td>\n",
       "    </tr>\n",
       "    <tr>\n",
       "      <th>3</th>\n",
       "      <td>4</td>\n",
       "      <td>25</td>\n",
       "    </tr>\n",
       "    <tr>\n",
       "      <th>4</th>\n",
       "      <td>40</td>\n",
       "      <td>22</td>\n",
       "    </tr>\n",
       "  </tbody>\n",
       "</table>\n",
       "</div>"
      ],
      "text/plain": [
       "   STATE  Shootings\n",
       "0      6         74\n",
       "1     48         47\n",
       "2     12         29\n",
       "3      4         25\n",
       "4     40         22"
      ]
     },
     "execution_count": 9,
     "metadata": {},
     "output_type": "execute_result"
    }
   ],
   "source": [
    "states.head()"
   ]
  },
  {
   "cell_type": "code",
   "execution_count": 10,
   "metadata": {
    "collapsed": false
   },
   "outputs": [
    {
     "data": {
      "text/html": [
       "<div>\n",
       "<table border=\"1\" class=\"dataframe\">\n",
       "  <thead>\n",
       "    <tr style=\"text-align: right;\">\n",
       "      <th></th>\n",
       "      <th>SUMLEV</th>\n",
       "      <th>REGION</th>\n",
       "      <th>DIVISION</th>\n",
       "      <th>STATE</th>\n",
       "      <th>NAME</th>\n",
       "      <th>POPESTIMATE2015</th>\n",
       "      <th>POPEST18PLUS2015</th>\n",
       "      <th>PCNT_POPEST18PLUS</th>\n",
       "      <th>Shootings</th>\n",
       "      <th>pop_millions</th>\n",
       "      <th>rate</th>\n",
       "    </tr>\n",
       "  </thead>\n",
       "  <tbody>\n",
       "    <tr>\n",
       "      <th>0</th>\n",
       "      <td>40</td>\n",
       "      <td>3</td>\n",
       "      <td>6</td>\n",
       "      <td>1</td>\n",
       "      <td>Alabama</td>\n",
       "      <td>4858979</td>\n",
       "      <td>3755483</td>\n",
       "      <td>77.3</td>\n",
       "      <td>8</td>\n",
       "      <td>4.858979</td>\n",
       "      <td>1.646436</td>\n",
       "    </tr>\n",
       "    <tr>\n",
       "      <th>1</th>\n",
       "      <td>40</td>\n",
       "      <td>4</td>\n",
       "      <td>9</td>\n",
       "      <td>2</td>\n",
       "      <td>Alaska</td>\n",
       "      <td>738432</td>\n",
       "      <td>552166</td>\n",
       "      <td>74.8</td>\n",
       "      <td>2</td>\n",
       "      <td>0.738432</td>\n",
       "      <td>2.708442</td>\n",
       "    </tr>\n",
       "    <tr>\n",
       "      <th>2</th>\n",
       "      <td>40</td>\n",
       "      <td>4</td>\n",
       "      <td>8</td>\n",
       "      <td>4</td>\n",
       "      <td>Arizona</td>\n",
       "      <td>6828065</td>\n",
       "      <td>5205215</td>\n",
       "      <td>76.2</td>\n",
       "      <td>25</td>\n",
       "      <td>6.828065</td>\n",
       "      <td>3.661359</td>\n",
       "    </tr>\n",
       "    <tr>\n",
       "      <th>3</th>\n",
       "      <td>40</td>\n",
       "      <td>3</td>\n",
       "      <td>7</td>\n",
       "      <td>5</td>\n",
       "      <td>Arkansas</td>\n",
       "      <td>2978204</td>\n",
       "      <td>2272904</td>\n",
       "      <td>76.3</td>\n",
       "      <td>4</td>\n",
       "      <td>2.978204</td>\n",
       "      <td>1.343091</td>\n",
       "    </tr>\n",
       "    <tr>\n",
       "      <th>4</th>\n",
       "      <td>40</td>\n",
       "      <td>4</td>\n",
       "      <td>9</td>\n",
       "      <td>6</td>\n",
       "      <td>California</td>\n",
       "      <td>39144818</td>\n",
       "      <td>30023902</td>\n",
       "      <td>76.7</td>\n",
       "      <td>74</td>\n",
       "      <td>39.144818</td>\n",
       "      <td>1.890416</td>\n",
       "    </tr>\n",
       "    <tr>\n",
       "      <th>5</th>\n",
       "      <td>40</td>\n",
       "      <td>4</td>\n",
       "      <td>8</td>\n",
       "      <td>8</td>\n",
       "      <td>Colorado</td>\n",
       "      <td>5456574</td>\n",
       "      <td>4199509</td>\n",
       "      <td>77.0</td>\n",
       "      <td>12</td>\n",
       "      <td>5.456574</td>\n",
       "      <td>2.199182</td>\n",
       "    </tr>\n",
       "    <tr>\n",
       "      <th>6</th>\n",
       "      <td>40</td>\n",
       "      <td>1</td>\n",
       "      <td>1</td>\n",
       "      <td>9</td>\n",
       "      <td>Connecticut</td>\n",
       "      <td>3590886</td>\n",
       "      <td>2826827</td>\n",
       "      <td>78.7</td>\n",
       "      <td>1</td>\n",
       "      <td>3.590886</td>\n",
       "      <td>0.278483</td>\n",
       "    </tr>\n",
       "    <tr>\n",
       "      <th>7</th>\n",
       "      <td>40</td>\n",
       "      <td>3</td>\n",
       "      <td>5</td>\n",
       "      <td>10</td>\n",
       "      <td>Delaware</td>\n",
       "      <td>945934</td>\n",
       "      <td>741548</td>\n",
       "      <td>78.4</td>\n",
       "      <td>2</td>\n",
       "      <td>0.945934</td>\n",
       "      <td>2.114312</td>\n",
       "    </tr>\n",
       "    <tr>\n",
       "      <th>8</th>\n",
       "      <td>40</td>\n",
       "      <td>3</td>\n",
       "      <td>5</td>\n",
       "      <td>11</td>\n",
       "      <td>District of Columbia</td>\n",
       "      <td>672228</td>\n",
       "      <td>554121</td>\n",
       "      <td>82.4</td>\n",
       "      <td>1</td>\n",
       "      <td>0.672228</td>\n",
       "      <td>1.487591</td>\n",
       "    </tr>\n",
       "    <tr>\n",
       "      <th>9</th>\n",
       "      <td>40</td>\n",
       "      <td>3</td>\n",
       "      <td>5</td>\n",
       "      <td>12</td>\n",
       "      <td>Florida</td>\n",
       "      <td>20271272</td>\n",
       "      <td>16166143</td>\n",
       "      <td>79.7</td>\n",
       "      <td>29</td>\n",
       "      <td>20.271272</td>\n",
       "      <td>1.430596</td>\n",
       "    </tr>\n",
       "    <tr>\n",
       "      <th>10</th>\n",
       "      <td>40</td>\n",
       "      <td>3</td>\n",
       "      <td>5</td>\n",
       "      <td>13</td>\n",
       "      <td>Georgia</td>\n",
       "      <td>10214860</td>\n",
       "      <td>7710688</td>\n",
       "      <td>75.5</td>\n",
       "      <td>16</td>\n",
       "      <td>10.214860</td>\n",
       "      <td>1.566346</td>\n",
       "    </tr>\n",
       "    <tr>\n",
       "      <th>11</th>\n",
       "      <td>40</td>\n",
       "      <td>4</td>\n",
       "      <td>9</td>\n",
       "      <td>15</td>\n",
       "      <td>Hawaii</td>\n",
       "      <td>1431603</td>\n",
       "      <td>1120770</td>\n",
       "      <td>78.3</td>\n",
       "      <td>4</td>\n",
       "      <td>1.431603</td>\n",
       "      <td>2.794071</td>\n",
       "    </tr>\n",
       "    <tr>\n",
       "      <th>12</th>\n",
       "      <td>40</td>\n",
       "      <td>4</td>\n",
       "      <td>8</td>\n",
       "      <td>16</td>\n",
       "      <td>Idaho</td>\n",
       "      <td>1654930</td>\n",
       "      <td>1222093</td>\n",
       "      <td>73.8</td>\n",
       "      <td>4</td>\n",
       "      <td>1.654930</td>\n",
       "      <td>2.417021</td>\n",
       "    </tr>\n",
       "    <tr>\n",
       "      <th>13</th>\n",
       "      <td>40</td>\n",
       "      <td>2</td>\n",
       "      <td>3</td>\n",
       "      <td>17</td>\n",
       "      <td>Illinois</td>\n",
       "      <td>12859995</td>\n",
       "      <td>9901322</td>\n",
       "      <td>77.0</td>\n",
       "      <td>11</td>\n",
       "      <td>12.859995</td>\n",
       "      <td>0.855366</td>\n",
       "    </tr>\n",
       "    <tr>\n",
       "      <th>14</th>\n",
       "      <td>40</td>\n",
       "      <td>2</td>\n",
       "      <td>3</td>\n",
       "      <td>18</td>\n",
       "      <td>Indiana</td>\n",
       "      <td>6619680</td>\n",
       "      <td>5040224</td>\n",
       "      <td>76.1</td>\n",
       "      <td>8</td>\n",
       "      <td>6.619680</td>\n",
       "      <td>1.208518</td>\n",
       "    </tr>\n",
       "    <tr>\n",
       "      <th>15</th>\n",
       "      <td>40</td>\n",
       "      <td>2</td>\n",
       "      <td>4</td>\n",
       "      <td>19</td>\n",
       "      <td>Iowa</td>\n",
       "      <td>3123899</td>\n",
       "      <td>2395103</td>\n",
       "      <td>76.7</td>\n",
       "      <td>2</td>\n",
       "      <td>3.123899</td>\n",
       "      <td>0.640226</td>\n",
       "    </tr>\n",
       "    <tr>\n",
       "      <th>16</th>\n",
       "      <td>40</td>\n",
       "      <td>2</td>\n",
       "      <td>4</td>\n",
       "      <td>20</td>\n",
       "      <td>Kansas</td>\n",
       "      <td>2911641</td>\n",
       "      <td>2192084</td>\n",
       "      <td>75.3</td>\n",
       "      <td>6</td>\n",
       "      <td>2.911641</td>\n",
       "      <td>2.060694</td>\n",
       "    </tr>\n",
       "    <tr>\n",
       "      <th>17</th>\n",
       "      <td>40</td>\n",
       "      <td>3</td>\n",
       "      <td>6</td>\n",
       "      <td>21</td>\n",
       "      <td>Kentucky</td>\n",
       "      <td>4425092</td>\n",
       "      <td>3413425</td>\n",
       "      <td>77.1</td>\n",
       "      <td>7</td>\n",
       "      <td>4.425092</td>\n",
       "      <td>1.581888</td>\n",
       "    </tr>\n",
       "    <tr>\n",
       "      <th>18</th>\n",
       "      <td>40</td>\n",
       "      <td>3</td>\n",
       "      <td>7</td>\n",
       "      <td>22</td>\n",
       "      <td>Louisiana</td>\n",
       "      <td>4670724</td>\n",
       "      <td>3555911</td>\n",
       "      <td>76.1</td>\n",
       "      <td>11</td>\n",
       "      <td>4.670724</td>\n",
       "      <td>2.355095</td>\n",
       "    </tr>\n",
       "    <tr>\n",
       "      <th>19</th>\n",
       "      <td>40</td>\n",
       "      <td>1</td>\n",
       "      <td>1</td>\n",
       "      <td>23</td>\n",
       "      <td>Maine</td>\n",
       "      <td>1329328</td>\n",
       "      <td>1072948</td>\n",
       "      <td>80.7</td>\n",
       "      <td>1</td>\n",
       "      <td>1.329328</td>\n",
       "      <td>0.752260</td>\n",
       "    </tr>\n",
       "  </tbody>\n",
       "</table>\n",
       "</div>"
      ],
      "text/plain": [
       "    SUMLEV REGION DIVISION  STATE                  NAME  POPESTIMATE2015  \\\n",
       "0       40      3        6      1               Alabama          4858979   \n",
       "1       40      4        9      2                Alaska           738432   \n",
       "2       40      4        8      4               Arizona          6828065   \n",
       "3       40      3        7      5              Arkansas          2978204   \n",
       "4       40      4        9      6            California         39144818   \n",
       "5       40      4        8      8              Colorado          5456574   \n",
       "6       40      1        1      9           Connecticut          3590886   \n",
       "7       40      3        5     10              Delaware           945934   \n",
       "8       40      3        5     11  District of Columbia           672228   \n",
       "9       40      3        5     12               Florida         20271272   \n",
       "10      40      3        5     13               Georgia         10214860   \n",
       "11      40      4        9     15                Hawaii          1431603   \n",
       "12      40      4        8     16                 Idaho          1654930   \n",
       "13      40      2        3     17              Illinois         12859995   \n",
       "14      40      2        3     18               Indiana          6619680   \n",
       "15      40      2        4     19                  Iowa          3123899   \n",
       "16      40      2        4     20                Kansas          2911641   \n",
       "17      40      3        6     21              Kentucky          4425092   \n",
       "18      40      3        7     22             Louisiana          4670724   \n",
       "19      40      1        1     23                 Maine          1329328   \n",
       "\n",
       "    POPEST18PLUS2015  PCNT_POPEST18PLUS  Shootings  pop_millions      rate  \n",
       "0            3755483               77.3          8      4.858979  1.646436  \n",
       "1             552166               74.8          2      0.738432  2.708442  \n",
       "2            5205215               76.2         25      6.828065  3.661359  \n",
       "3            2272904               76.3          4      2.978204  1.343091  \n",
       "4           30023902               76.7         74     39.144818  1.890416  \n",
       "5            4199509               77.0         12      5.456574  2.199182  \n",
       "6            2826827               78.7          1      3.590886  0.278483  \n",
       "7             741548               78.4          2      0.945934  2.114312  \n",
       "8             554121               82.4          1      0.672228  1.487591  \n",
       "9           16166143               79.7         29     20.271272  1.430596  \n",
       "10           7710688               75.5         16     10.214860  1.566346  \n",
       "11           1120770               78.3          4      1.431603  2.794071  \n",
       "12           1222093               73.8          4      1.654930  2.417021  \n",
       "13           9901322               77.0         11     12.859995  0.855366  \n",
       "14           5040224               76.1          8      6.619680  1.208518  \n",
       "15           2395103               76.7          2      3.123899  0.640226  \n",
       "16           2192084               75.3          6      2.911641  2.060694  \n",
       "17           3413425               77.1          7      4.425092  1.581888  \n",
       "18           3555911               76.1         11      4.670724  2.355095  \n",
       "19           1072948               80.7          1      1.329328  0.752260  "
      ]
     },
     "execution_count": 10,
     "metadata": {},
     "output_type": "execute_result"
    }
   ],
   "source": [
    "# merge state_pop and states on the STATE label\n",
    "states = state_pop.merge(states, on='STATE')\n",
    "\n",
    "# Create a new column in states called pop_millions\n",
    "states['pop_millions'] = states[\"POPESTIMATE2015\"] / 1000000\n",
    "# rate of police killings per one million people in each state\n",
    "states['rate'] = states[\"Shootings\"] / states[\"pop_millions\"]\n",
    "states.head(20)"
   ]
  },
  {
   "cell_type": "code",
   "execution_count": 11,
   "metadata": {
    "collapsed": false
   },
   "outputs": [
    {
     "name": "stderr",
     "output_type": "stream",
     "text": [
      "/home/chiedu/anaconda3/lib/python3.5/site-packages/ipykernel/__main__.py:1: FutureWarning: sort(columns=....) is deprecated, use sort_values(by=.....)\n",
      "  if __name__ == '__main__':\n"
     ]
    }
   ],
   "source": [
    "rates_asc = states.sort(columns=['rate'], ascending=[1])"
   ]
  },
  {
   "cell_type": "markdown",
   "metadata": {},
   "source": [
    "From the analysis we can see that Connecticut and Oklahoma have the least and most police shootings per million with rates of 0.278/mill and 5.625/mill. This means the police are more likely to shoot people in Oklahoma and people are least likely to be shot in Connecticut by the police."
   ]
  },
  {
   "cell_type": "markdown",
   "metadata": {},
   "source": [
    "## State By State Differences"
   ]
  },
  {
   "cell_type": "markdown",
   "metadata": {},
   "source": [
    "Why do some states have a much higher rate of police killings than others?"
   ]
  },
  {
   "cell_type": "code",
   "execution_count": 12,
   "metadata": {
    "collapsed": false
   },
   "outputs": [
    {
     "data": {
      "text/plain": [
       "(467, 34)"
      ]
     },
     "execution_count": 12,
     "metadata": {},
     "output_type": "execute_result"
    }
   ],
   "source": [
    "police_killings.shape"
   ]
  },
  {
   "cell_type": "markdown",
   "metadata": {},
   "source": [
    "Remove all rows in  share_hispanic, share_black and share_white columns that contain non-numeric characters('-')"
   ]
  },
  {
   "cell_type": "code",
   "execution_count": 13,
   "metadata": {
    "collapsed": false
   },
   "outputs": [
    {
     "data": {
      "text/plain": [
       "(465, 34)"
      ]
     },
     "execution_count": 13,
     "metadata": {},
     "output_type": "execute_result"
    }
   ],
   "source": [
    "pk = police_killings[police_killings[\"share_hispanic\"] != '-']\n",
    "pk = police_killings[police_killings[\"share_black\"] != '-']\n",
    "pk = police_killings[police_killings[\"share_white\"] != '-']\n",
    "pk[[\"share_white\", \"share_black\", \"share_hispanic\"]].astype(float)\n",
    "pk.shape"
   ]
  },
  {
   "cell_type": "markdown",
   "metadata": {},
   "source": [
    "Sort and slice the police killings data by top 10 and bottom 10 killing rates per million"
   ]
  },
  {
   "cell_type": "code",
   "execution_count": 14,
   "metadata": {
    "collapsed": false
   },
   "outputs": [],
   "source": [
    "pk_low = pk[pk[\"state_fp\"].isin(rates_asc[\"STATE\"].iloc[0:10])]\n",
    "pk_high = pk[pk[\"state_fp\"].isin(rates_asc[\"STATE\"].tail(10))]"
   ]
  },
  {
   "cell_type": "code",
   "execution_count": 15,
   "metadata": {
    "collapsed": false
   },
   "outputs": [
    {
     "name": "stdout",
     "output_type": "stream",
     "text": [
      "['WI' 'OH' 'NH' 'MA' 'PA' 'IA' 'NY' 'IL' 'CT' 'ME']\n",
      "['LA' 'AZ' 'NE' 'OK' 'NM' 'ID' 'CO' 'HI' 'AK' 'DE']\n"
     ]
    }
   ],
   "source": [
    "print(pk_low[\"state\"].unique())\n",
    "print(pk_high[\"state\"].unique())"
   ]
  },
  {
   "cell_type": "markdown",
   "metadata": {},
   "source": [
    "Find the mean of the etnicities for the top 10 and bottom 10 states per police killings "
   ]
  },
  {
   "cell_type": "code",
   "execution_count": 16,
   "metadata": {
    "collapsed": false
   },
   "outputs": [],
   "source": [
    "pk_low_mean = pk_low[[\"share_white\", \"share_black\", \"share_hispanic\"]].astype(float).mean()\n",
    "pk_high_mean = pk_high[[\"share_white\", \"share_black\", \"share_hispanic\"]].astype(float).mean()\n"
   ]
  },
  {
   "cell_type": "code",
   "execution_count": 17,
   "metadata": {
    "collapsed": false
   },
   "outputs": [
    {
     "name": "stdout",
     "output_type": "stream",
     "text": [
      "share_white       60.132727\n",
      "share_black       21.610909\n",
      "share_hispanic    12.994545\n",
      "dtype: float64\n",
      "share_white       55.652174\n",
      "share_black       11.532609\n",
      "share_hispanic    20.693478\n",
      "dtype: float64\n"
     ]
    }
   ],
   "source": [
    "print(pk_low_mean)\n",
    "print(pk_high_mean)"
   ]
  },
  {
   "cell_type": "markdown",
   "metadata": {},
   "source": [
    "Comparison of the mean values for etnicity share in the top 10 states with lowest shooting rates versus the states with top 10 killing rates, showed that states with higher killing rates had lower proportion of blacks with regards to whites and hispanic. It also seems like states with low shooting rates have almost double the population of blacks to hispanic."
   ]
  },
  {
   "cell_type": "code",
   "execution_count": null,
   "metadata": {
    "collapsed": true
   },
   "outputs": [],
   "source": []
  }
 ],
 "metadata": {
  "kernelspec": {
   "display_name": "Python 3",
   "language": "python",
   "name": "python3"
  },
  "language_info": {
   "codemirror_mode": {
    "name": "ipython",
    "version": 3
   },
   "file_extension": ".py",
   "mimetype": "text/x-python",
   "name": "python",
   "nbconvert_exporter": "python",
   "pygments_lexer": "ipython3",
   "version": "3.5.2"
  }
 },
 "nbformat": 4,
 "nbformat_minor": 0
}
